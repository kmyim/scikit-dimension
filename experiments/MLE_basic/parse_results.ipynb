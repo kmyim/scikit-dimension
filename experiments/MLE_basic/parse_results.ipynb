{
 "cells": [
  {
   "cell_type": "code",
   "execution_count": 6,
   "metadata": {},
   "outputs": [],
   "source": [
    "import numpy as np\n",
    "import matplotlib.pyplot as plt\n",
    "import json\n",
    "import pandas as pd"
   ]
  },
  {
   "cell_type": "code",
   "execution_count": 42,
   "metadata": {},
   "outputs": [],
   "source": [
    "with open(\"results/expt1.json\", \"r\") as f: results = json.load(f)"
   ]
  },
  {
   "cell_type": "code",
   "execution_count": 45,
   "metadata": {},
   "outputs": [
    {
     "data": {
      "text/plain": [
       "{'dataset_meta_params': {'ds_random_seed': 12345, 'n_repeats': 100},\n",
       " 'estimator_params': {'est_name': 'MLE_basic',\n",
       "  'est_params': [{'nbhd_type': 'knn',\n",
       "    'metric': 'euclidean',\n",
       "    'n_neighbors': 5,\n",
       "    'smooth': False},\n",
       "   {'nbhd_type': 'knn',\n",
       "    'metric': 'euclidean',\n",
       "    'n_neighbors': 10,\n",
       "    'smooth': False},\n",
       "   {'nbhd_type': 'eps',\n",
       "    'metric': 'euclidean',\n",
       "    'radius': 0.75,\n",
       "    'smooth': False},\n",
       "   {'nbhd_type': 'eps',\n",
       "    'metric': 'euclidean',\n",
       "    'radius': 1.0,\n",
       "    'smooth': False}],\n",
       "  'meta_params': {'est_random_seed': 12345, 'n_repeats': 500}},\n",
       " 'hyperSphere': [{'dataset_parameters': {'n': 500, 'd': 4},\n",
       "   'estimated_dim': [[5.270507753126502, 0.19505108956712425, 0.0],\n",
       "    [4.418480656396899, 0.08762736249827044, 0.0],\n",
       "    [4.014114970634974, 0.046432960445410607, 0.0],\n",
       "    [3.7931210142121956, 0.019693863753982143, 0.0]]},\n",
       "  {'dataset_parameters': {'n': 1000, 'd': 4},\n",
       "   'estimated_dim': [[5.25355609028294, 0.13211528613479456, 0.0],\n",
       "    [4.420473516750871, 0.06187364130123707, 0.0],\n",
       "    [3.9405941775444044, 0.021235815882235314, 0.0],\n",
       "    [3.77478543344981, 0.008500380682158073, 0.0]]},\n",
       "  {'dataset_parameters': {'n': 500, 'd': 8},\n",
       "   'estimated_dim': [[9.777321169403313, 0.29234556785815397, 0.0],\n",
       "    [8.157730058789321, 0.1385246846354484, 0.0],\n",
       "    [11.858071873045748, 3.2493404611855845, 0.00842],\n",
       "    [7.095415921985615, 0.05938601445320681, 0.0]]},\n",
       "  {'dataset_parameters': {'n': 1000, 'd': 8},\n",
       "   'estimated_dim': [[9.959488168439607, 0.22789638957747416, 0.0],\n",
       "    [8.302574871417297, 0.10338301842571583, 0.0],\n",
       "    [8.427630846019273, 0.2835003557316464, 0.00012],\n",
       "    [6.996308443167318, 0.03321701781581425, 0.0]]}],\n",
       " 'swissRoll3Sph': [{'dataset_parameters': {'n_swiss': 500, 'n_sphere': 500},\n",
       "   'estimated_dim': [[3.747432105151781, 0.08424601703869547, 0.0],\n",
       "    [3.1480481269083795, 0.03620678632776335, 0.0],\n",
       "    [3.1481938520555635, 0.427699975262576, 0.0030400000000000006],\n",
       "    [2.765389643754704, 0.09223863942381179, 0.00012]]},\n",
       "  {'dataset_parameters': {'n_swiss': 1000, 'n_sphere': 500},\n",
       "   'estimated_dim': [[3.362484371170888, 0.06864810547537158, 0.0],\n",
       "    [2.8222030097697113, 0.03141188823693553, 0.0],\n",
       "    [2.624793467714454, 0.05578044520925382, 5.333333333333333e-05],\n",
       "    [2.485298427881951, 0.013588512791606605, 0.0]]},\n",
       "  {'dataset_parameters': {'n_swiss': 500, 'n_sphere': 1000},\n",
       "   'estimated_dim': [[4.133072083464276, 0.09423097608192553, 0.0],\n",
       "    [3.474761106297143, 0.04100829611990803, 0.0],\n",
       "    [3.184647175003933, 0.1517455071033366, 0.002086666666666667],\n",
       "    [2.892513813851902, 0.030222347836311093, 0.00017999999999999998]]},\n",
       "  {'dataset_parameters': {'n_swiss': 1000, 'n_sphere': 1000},\n",
       "   'estimated_dim': [[3.7510247031119737, 0.0699406175742671, 0.0],\n",
       "    [3.14921001811932, 0.0306458419469564, 0.0],\n",
       "    [2.8002795394000306, 0.030526372088751887, 6.500000000000001e-05],\n",
       "    [2.664986579187127, 0.014855055293626605, 0.0]]}]}"
      ]
     },
     "execution_count": 45,
     "metadata": {},
     "output_type": "execute_result"
    }
   ],
   "source": [
    "results"
   ]
  },
  {
   "cell_type": "code",
   "execution_count": 43,
   "metadata": {},
   "outputs": [],
   "source": [
    "df_basic = pd.DataFrame(results['estimator_params']['est_params'])\n",
    "del df_basic['metric'], df_basic['smooth']"
   ]
  },
  {
   "cell_type": "code",
   "execution_count": 44,
   "metadata": {},
   "outputs": [
    {
     "data": {
      "text/html": [
       "<div>\n",
       "<style scoped>\n",
       "    .dataframe tbody tr th:only-of-type {\n",
       "        vertical-align: middle;\n",
       "    }\n",
       "\n",
       "    .dataframe tbody tr th {\n",
       "        vertical-align: top;\n",
       "    }\n",
       "\n",
       "    .dataframe thead th {\n",
       "        text-align: right;\n",
       "    }\n",
       "</style>\n",
       "<table border=\"1\" class=\"dataframe\">\n",
       "  <thead>\n",
       "    <tr style=\"text-align: right;\">\n",
       "      <th></th>\n",
       "      <th>nbhd_type</th>\n",
       "      <th>n_neighbors</th>\n",
       "      <th>radius</th>\n",
       "    </tr>\n",
       "  </thead>\n",
       "  <tbody>\n",
       "    <tr>\n",
       "      <th>0</th>\n",
       "      <td>knn</td>\n",
       "      <td>5.0</td>\n",
       "      <td>NaN</td>\n",
       "    </tr>\n",
       "    <tr>\n",
       "      <th>1</th>\n",
       "      <td>knn</td>\n",
       "      <td>10.0</td>\n",
       "      <td>NaN</td>\n",
       "    </tr>\n",
       "    <tr>\n",
       "      <th>2</th>\n",
       "      <td>eps</td>\n",
       "      <td>NaN</td>\n",
       "      <td>0.75</td>\n",
       "    </tr>\n",
       "    <tr>\n",
       "      <th>3</th>\n",
       "      <td>eps</td>\n",
       "      <td>NaN</td>\n",
       "      <td>1.00</td>\n",
       "    </tr>\n",
       "  </tbody>\n",
       "</table>\n",
       "</div>"
      ],
      "text/plain": [
       "  nbhd_type  n_neighbors  radius\n",
       "0       knn          5.0     NaN\n",
       "1       knn         10.0     NaN\n",
       "2       eps          NaN    0.75\n",
       "3       eps          NaN    1.00"
      ]
     },
     "execution_count": 44,
     "metadata": {},
     "output_type": "execute_result"
    }
   ],
   "source": [
    "df_basic"
   ]
  },
  {
   "cell_type": "code",
   "execution_count": 75,
   "metadata": {},
   "outputs": [
    {
     "name": "stdout",
     "output_type": "stream",
     "text": [
      "{'n': 500, 'd': 8}\n"
     ]
    }
   ],
   "source": [
    "i = 2\n",
    "ds = 'hyperSphere'\n",
    "print(results[ds][i]['dataset_parameters'])"
   ]
  },
  {
   "cell_type": "code",
   "execution_count": 76,
   "metadata": {},
   "outputs": [],
   "source": [
    "df = df_basic.assign(est_dim_mean=[round(x[0],2) for x in results[ds][i]['estimated_dim']])\n",
    "df = df.assign(est_dim_std=[round(x[1],2) for x in results[ds][i]['estimated_dim']])\n",
    "df = df.assign(frac_empty_nbhd=[round(x[2],2) for x in results[ds][i]['estimated_dim']])"
   ]
  },
  {
   "cell_type": "code",
   "execution_count": 77,
   "metadata": {},
   "outputs": [
    {
     "data": {
      "text/html": [
       "<div>\n",
       "<style scoped>\n",
       "    .dataframe tbody tr th:only-of-type {\n",
       "        vertical-align: middle;\n",
       "    }\n",
       "\n",
       "    .dataframe tbody tr th {\n",
       "        vertical-align: top;\n",
       "    }\n",
       "\n",
       "    .dataframe thead th {\n",
       "        text-align: right;\n",
       "    }\n",
       "</style>\n",
       "<table border=\"1\" class=\"dataframe\">\n",
       "  <thead>\n",
       "    <tr style=\"text-align: right;\">\n",
       "      <th></th>\n",
       "      <th>nbhd_type</th>\n",
       "      <th>n_neighbors</th>\n",
       "      <th>radius</th>\n",
       "      <th>est_dim_mean</th>\n",
       "      <th>est_dim_std</th>\n",
       "      <th>frac_empty_nbhd</th>\n",
       "    </tr>\n",
       "  </thead>\n",
       "  <tbody>\n",
       "    <tr>\n",
       "      <th>0</th>\n",
       "      <td>knn</td>\n",
       "      <td>5.0</td>\n",
       "      <td>NaN</td>\n",
       "      <td>9.78</td>\n",
       "      <td>0.29</td>\n",
       "      <td>0.00</td>\n",
       "    </tr>\n",
       "    <tr>\n",
       "      <th>1</th>\n",
       "      <td>knn</td>\n",
       "      <td>10.0</td>\n",
       "      <td>NaN</td>\n",
       "      <td>8.16</td>\n",
       "      <td>0.14</td>\n",
       "      <td>0.00</td>\n",
       "    </tr>\n",
       "    <tr>\n",
       "      <th>2</th>\n",
       "      <td>eps</td>\n",
       "      <td>NaN</td>\n",
       "      <td>0.75</td>\n",
       "      <td>11.86</td>\n",
       "      <td>3.25</td>\n",
       "      <td>0.01</td>\n",
       "    </tr>\n",
       "    <tr>\n",
       "      <th>3</th>\n",
       "      <td>eps</td>\n",
       "      <td>NaN</td>\n",
       "      <td>1.00</td>\n",
       "      <td>7.10</td>\n",
       "      <td>0.06</td>\n",
       "      <td>0.00</td>\n",
       "    </tr>\n",
       "  </tbody>\n",
       "</table>\n",
       "</div>"
      ],
      "text/plain": [
       "  nbhd_type  n_neighbors  radius  est_dim_mean  est_dim_std  frac_empty_nbhd\n",
       "0       knn          5.0     NaN          9.78         0.29             0.00\n",
       "1       knn         10.0     NaN          8.16         0.14             0.00\n",
       "2       eps          NaN    0.75         11.86         3.25             0.01\n",
       "3       eps          NaN    1.00          7.10         0.06             0.00"
      ]
     },
     "execution_count": 77,
     "metadata": {},
     "output_type": "execute_result"
    }
   ],
   "source": [
    "df"
   ]
  },
  {
   "cell_type": "code",
   "execution_count": 65,
   "metadata": {},
   "outputs": [
    {
     "data": {
      "text/plain": [
       "dict_keys(['dataset_meta_params', 'estimator_params', 'hyperSphere', 'swissRoll3Sph'])"
      ]
     },
     "execution_count": 65,
     "metadata": {},
     "output_type": "execute_result"
    }
   ],
   "source": [
    "results.keys()"
   ]
  },
  {
   "cell_type": "code",
   "execution_count": null,
   "metadata": {},
   "outputs": [],
   "source": []
  }
 ],
 "metadata": {
  "kernelspec": {
   "display_name": "scikit-dimension",
   "language": "python",
   "name": "python3"
  },
  "language_info": {
   "codemirror_mode": {
    "name": "ipython",
    "version": 3
   },
   "file_extension": ".py",
   "mimetype": "text/x-python",
   "name": "python",
   "nbconvert_exporter": "python",
   "pygments_lexer": "ipython3",
   "version": "3.9.6"
  }
 },
 "nbformat": 4,
 "nbformat_minor": 2
}
