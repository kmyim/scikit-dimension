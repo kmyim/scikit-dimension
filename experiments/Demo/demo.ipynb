{
 "cells": [
  {
   "cell_type": "code",
   "execution_count": 1,
   "metadata": {},
   "outputs": [],
   "source": [
    "import json\n",
    "from skdim.exptutils import experiment_with_benchmark_parameters\n",
    "from skdim.datasets import mnist, torus, hyperSphere, random_embedding\n",
    "from skdim.id_flex import lPCA\n",
    "import numpy as np\n"
   ]
  },
  {
   "cell_type": "code",
   "execution_count": 25,
   "metadata": {},
   "outputs": [
    {
     "data": {
      "text/plain": [
       "625"
      ]
     },
     "execution_count": 25,
     "metadata": {},
     "output_type": "execute_result"
    }
   ],
   "source": [
    "1250//2"
   ]
  },
  {
   "cell_type": "code",
   "execution_count": 5,
   "metadata": {},
   "outputs": [],
   "source": [
    "N = 1000\n",
    "random_state = 12345"
   ]
  },
  {
   "cell_type": "code",
   "execution_count": 6,
   "metadata": {},
   "outputs": [],
   "source": [
    "#X = torus(n_points=N, random_state=random_state)\n",
    "X = hyperSphere(n = N, d=9)"
   ]
  },
  {
   "cell_type": "code",
   "execution_count": 7,
   "metadata": {},
   "outputs": [],
   "source": [
    "X = random_embedding(X, ext_dim = 20, state = random_state)"
   ]
  },
  {
   "cell_type": "code",
   "execution_count": 13,
   "metadata": {},
   "outputs": [],
   "source": [
    "est_params_f = 'lpca_demo'\n",
    "error_criterion = np.inf\n",
    "with open('est_params/' + est_params_f + '.json', \"r\") as f: expt_params = json.load(f)"
   ]
  },
  {
   "cell_type": "code",
   "execution_count": 14,
   "metadata": {},
   "outputs": [],
   "source": [
    "hyperparameter_search, best_benchmark_params = experiment_with_benchmark_parameters(dataset=X, estimator= lPCA, estimator_params = expt_params['est_params'], error_norm = error_criterion, random_state= expt_params['random_seed'])\n"
   ]
  },
  {
   "cell_type": "code",
   "execution_count": 15,
   "metadata": {},
   "outputs": [
    {
     "data": {
      "text/plain": [
       "9.475180291624993"
      ]
     },
     "execution_count": 15,
     "metadata": {},
     "output_type": "execute_result"
    }
   ],
   "source": [
    "hyperparameter_search[best_benchmark_params]"
   ]
  },
  {
   "cell_type": "code",
   "execution_count": 23,
   "metadata": {},
   "outputs": [
    {
     "data": {
      "text/plain": [
       "(('nbhd_type', 'knn'),\n",
       " ('metric', 'euclidean'),\n",
       " ('n_neighbors', 25),\n",
       " ('smooth', False),\n",
       " ('comb', 'hmean'),\n",
       " ('ver', 'FO'),\n",
       " ('n_jobs', -1))"
      ]
     },
     "execution_count": 23,
     "metadata": {},
     "output_type": "execute_result"
    }
   ],
   "source": [
    "best_benchmark_params"
   ]
  },
  {
   "cell_type": "code",
   "execution_count": 22,
   "metadata": {},
   "outputs": [
    {
     "data": {
      "text/plain": [
       "array([4.183     , 6.683     , 4.        , 8.        , 5.77478345,\n",
       "       6.518     , 6.601     , 4.        , 4.        , 7.        ,\n",
       "       4.        , 8.        , 5.76562235, 7.        , 7.        ,\n",
       "       4.        , 4.22102748, 6.76369735, 4.        , 8.        ,\n",
       "       5.81935591, 6.62470309, 7.2167801 , 4.        , 1.685     ,\n",
       "       5.365     , 1.        , 8.        , 4.09715806, 4.875     ,\n",
       "       4.899     , 0.99      , 2.        , 5.        , 1.        ,\n",
       "       8.        , 4.08570073, 5.        , 5.        , 1.        ,\n",
       "       1.7474501 , 5.43493761, 1.        , 8.        , 4.14043324,\n",
       "       4.94238182, 6.01590098, 0.98890122, 0.42      , 4.748     ,\n",
       "       1.        , 8.        , 3.15842845, 3.474     , 3.04      ,\n",
       "       1.        , 0.        , 5.        , 1.        , 8.        ,\n",
       "       3.13336886, 3.        , 3.        , 1.        , 0.46725899,\n",
       "       4.78888265, 1.        , 8.        , 3.19159932, 3.53153482,\n",
       "       3.37636825, 1.        , 0.189     , 4.168     , 1.        ,\n",
       "       8.        , 2.55634933, 2.34      , 1.973     , 1.        ,\n",
       "       0.        , 4.        , 1.        , 8.        , 2.55530807,\n",
       "       2.        , 2.        , 1.        , 0.16077154, 4.20307004,\n",
       "       1.        , 8.        , 2.5805133 , 2.39243434, 2.09356304,\n",
       "       1.        , 0.503     , 3.981     , 1.        , 8.        ,\n",
       "       2.10887964, 1.934     , 1.348     , 1.        , 1.        ,\n",
       "       4.        , 1.        , 8.        , 2.11000076, 2.        ,\n",
       "       1.        , 1.        , 0.47518029, 3.99332443, 1.        ,\n",
       "       8.        , 2.12767374, 1.98314004, 1.63192365, 1.        ,\n",
       "       0.784     , 3.585     , 1.        , 8.        , 1.54145421,\n",
       "       1.266     , 0.551     , 1.        , 1.        , 4.        ,\n",
       "       1.        , 8.        , 1.53091722, 1.        , 0.        ,\n",
       "       1.        , 0.765625  , 3.62846911, 1.        , 8.        ,\n",
       "       1.55291793, 1.3080445 , 2.39518792, 1.        ])"
      ]
     },
     "execution_count": 22,
     "metadata": {},
     "output_type": "execute_result"
    }
   ],
   "source": [
    "np.abs(np.array(list(hyperparameter_search.values()))-9)"
   ]
  },
  {
   "cell_type": "code",
   "execution_count": null,
   "metadata": {},
   "outputs": [],
   "source": []
  },
  {
   "cell_type": "code",
   "execution_count": null,
   "metadata": {},
   "outputs": [],
   "source": []
  }
 ],
 "metadata": {
  "kernelspec": {
   "display_name": "skdvenv",
   "language": "python",
   "name": "python3"
  },
  "language_info": {
   "codemirror_mode": {
    "name": "ipython",
    "version": 3
   },
   "file_extension": ".py",
   "mimetype": "text/x-python",
   "name": "python",
   "nbconvert_exporter": "python",
   "pygments_lexer": "ipython3",
   "version": "3.9.6"
  }
 },
 "nbformat": 4,
 "nbformat_minor": 2
}
